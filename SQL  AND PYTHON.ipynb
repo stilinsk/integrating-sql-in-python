{
 "cells": [
  {
   "cell_type": "markdown",
   "id": "82c1c5f6",
   "metadata": {},
   "source": [
    "## INTEGRATING SQL AND PYTHON"
   ]
  },
  {
   "cell_type": "markdown",
   "id": "40eb1f49",
   "metadata": {},
   "source": [
    "In the below  notebook we will be trying to integrate python and mysql data base where we will be creating a database and a table named PYTHON and add data to the table and actually query data using SQL  commands while here in jupyter notebooks, we will also add data whhile still here in jupyter notebooks and analsyze the data using complex and simple commands (lets call it advanced sql)"
   ]
  },
  {
   "cell_type": "markdown",
   "id": "137ad0c6",
   "metadata": {},
   "source": [
    "In the below lines of  code we will be connecting and initiating sql in jupyter notebooks  we will need to install some libraries\n",
    "\n",
    "#### pip install mysql-connector-python\n",
    " it is advisable to install the dependencieds from the terminal to save on time and then refresh the jupyter notebook"
   ]
  },
  {
   "cell_type": "markdown",
   "id": "e6d71c38",
   "metadata": {},
   "source": [
    "import mysql.connector: This line imports the mysql.connector module, which is a Python library used for connecting to and interacting with MySQL databases.\n",
    "\n",
    "from mysql.connector import Error: This line specifically imports the Error class from the mysql.connector module. The Error class is used to handle exceptions and errors that may occur during database operations.\n",
    "\n",
    "import pandas as pd: This line imports the Pandas library and gives it an alias pd. Pandas is a powerful library for data manipulation and analysis in Python. By convention, it is often imported as pd to make the code more concise"
   ]
  },
  {
   "cell_type": "code",
   "execution_count": 2,
   "id": "c01856aa",
   "metadata": {
    "scrolled": true
   },
   "outputs": [],
   "source": [
    "\n",
    "import mysql.connector\n",
    "from mysql.connector import Error\n",
    "import pandas as pd"
   ]
  },
  {
   "cell_type": "markdown",
   "id": "0b45e188",
   "metadata": {},
   "source": [
    "import mysql.connector and from mysql.connector import Error: These lines import the necessary modules for working with MySQL databases and handling potential errors using the mysql.connector library.\n",
    "\n",
    "def create_server_connection(host_name, user_name, user_password):: This line defines a function named create_server_connection that takes three parameters: host_name, user_name, and user_password. This function is intended to create a connection to a MySQL database server.\n",
    "\n",
    "Inside the create_server_connection function:\n",
    "\n",
    "connection = None: Initializes a variable named connection to None. This variable will store the database connection object.\n",
    "A try block is used to attempt to establish a connection to the MySQL database server using the provided host_name, user_name, and user_password. If the connection is successful, it prints a success message; otherwise, it catches any errors that occur and prints an error message.\n",
    "The mysql.connector.connect() function is used to create a connection object with the provided host, username, and password.\n",
    "pw = \"1Leviticus.\" and db = \"python\": These lines define two variables, pw and db, which store the MySQL user password and the name of the database you want to connect to, respectively.\n",
    "\n",
    "connection = create_server_connection(\"localhost\", \"root\", pw): This line calls the create_server_connection function with the arguments \"localhost\" (the MySQL server hostname), \"root\" (the MySQL username), and the pw variable (the MySQL user password). It attempts to establish a connection to the MySQL database server using the provided information and stores the connection object in the connection variable.\n",
    "\n",
    "Overall, this code sets up a function to create a connection to a MySQL database server and then demonstrates its usage by connecting to a local MySQL server with the root user and a password stored in the pw variable. If the connection is successful, it prints a success message, and the connection variable holds the database connection object, which can be used for executing database queries."
   ]
  },
  {
   "cell_type": "code",
   "execution_count": 4,
   "id": "4c74728d",
   "metadata": {},
   "outputs": [
    {
     "name": "stdout",
     "output_type": "stream",
     "text": [
      "MySQL database connection was successful\n"
     ]
    }
   ],
   "source": [
    "import mysql.connector\n",
    "from mysql.connector import Error\n",
    "\n",
    "def create_server_connection(host_name, user_name, user_password):\n",
    "    connection = None\n",
    "    try:\n",
    "        connection = mysql.connector.connect(\n",
    "            host=host_name,\n",
    "            user=user_name,\n",
    "            passwd=user_password\n",
    "        )\n",
    "        print('MySQL database connection was successful')\n",
    "    except Error as err:\n",
    "        print(f\"Error: {err}\")\n",
    "    return connection\n",
    "\n",
    "pw = \"1Leviticus.\"\n",
    "db = \"python\"\n",
    "connection = create_server_connection(\"localhost\", \"root\", pw)\n"
   ]
  },
  {
   "cell_type": "markdown",
   "id": "e6394900",
   "metadata": {},
   "source": [
    "*import mysql.connector and from mysql.connector import Error:* These lines import the necessary modules for working with MySQL databases and handling potential errors using the mysql.connector library, just like in the previous example.\n",
    "\n",
    "def create_database(connection, query):: This line defines a new function named create_database that takes two parameters: connection and query. This function is intended to execute a SQL query to create a new database on the MySQL server.\n",
    "\n",
    "Inside the create_database function:\n",
    "\n",
    "cursor = connection.cursor(): Creates a cursor object associated with the provided connection. A cursor is used to execute SQL queries against the database.\n",
    "A try block is used to attempt to execute the provided SQL query (query) using the cursor. If the execution is successful, it prints a success message; otherwise, it catches any errors that occur and prints an error message.\n",
    "create_database_query = \"CREATE DATABASE python\": This line defines a variable create_database_query with the SQL query to create a new database named \"python.\" The SQL query is in uppercase as it's conventionally written that way.\n",
    "\n",
    "connection = create_server_connection(\"localhost\", \"root\", pw): This line calls the create_server_connection function (defined earlier) to establish a connection to the MySQL server with the specified hostname, username (\"root\"), and password (pw).\n",
    "\n",
    "create_database(connection, create_database_query): This line calls the create_database function with two arguments: the connection object (established in the previous step) and the create_database_query containing the SQL query to create a new database. This will attempt to create a database named \"python\" on the MySQL server."
   ]
  },
  {
   "cell_type": "code",
   "execution_count": 6,
   "id": "31a088bd",
   "metadata": {},
   "outputs": [
    {
     "name": "stdout",
     "output_type": "stream",
     "text": [
      "MySQL database connection was successful\n",
      "Database created successfully\n"
     ]
    }
   ],
   "source": [
    "import mysql.connector\n",
    "from mysql.connector import Error\n",
    "\n",
    "def create_database(connection, query):\n",
    "    cursor = connection.cursor()\n",
    "    try:\n",
    "        cursor.execute(query)\n",
    "        print(\"Database created successfully\")\n",
    "    except Error as err:\n",
    "        print(f\"Error: {err}\")\n",
    "\n",
    "create_database_query = \"CREATE DATABASE python\"  # Use uppercase \"CREATE DATABASE\"\n",
    "connection = create_server_connection(\"localhost\", \"root\", pw)  # Assuming you have defined pw earlier\n",
    "create_database(connection, create_database_query)\n"
   ]
  },
  {
   "cell_type": "markdown",
   "id": "bea69505",
   "metadata": {},
   "source": [
    "import mysql.connector and from mysql.connector import Error: These lines import the necessary modules for working with MySQL databases and handling potential errors using the mysql.connector library, as seen in previous examples.\n",
    "\n",
    "def create_db_connection(host_name, user_name, user_password, db_name):: This line defines a function called create_db_connection. This function takes four parameters: host_name, user_name, user_password, and db_name. It is designed to create a connection to a MySQL database with the provided information.\n",
    "\n",
    "Inside the create_db_connection function:\n",
    "\n",
    "connection = None: Initializes a variable named connection to None. This variable will store the database connection object.\n",
    "A try block is used to attempt to establish a connection to the MySQL database server with the provided host_name, user_name, user_password, and db_name. If the connection is successful, it prints a success message; otherwise, it catches any errors that occur and prints an error message.\n",
    "The mysql.connector.connect() function is used to create a connection object with the provided host, username, password, and the specific database (db_name) to which you want to connect.\n",
    "Usage:\n",
    "\n",
    "host_name = \"localhost\", user_name = \"root\", user_password = \"1Leviticus.\", and db_name = \"python\": These lines define variables containing the values for the MySQL server hostname, username, password, and the name of the database to connect to.\n",
    "\n",
    "connection = create_db_connection(host_name, user_name, user_password, db_name): This line calls the create_db_connection function with the specified parameters, attempting to establish a connection to the MySQL server using the provided details. If successful, it assigns the connection object to the connection variable.\n",
    "\n",
    "Overall, this code sets up a function for creating a connection to a specific MySQL database, allowing you to connect to a database with the specified hostname, username, password, and database name. It's a useful way to encapsulate the connection logic, making it easier to manage database connections in your Python code."
   ]
  },
  {
   "cell_type": "code",
   "execution_count": 21,
   "id": "0c15302e",
   "metadata": {},
   "outputs": [
    {
     "name": "stdout",
     "output_type": "stream",
     "text": [
      "MySQL database connection was successful\n"
     ]
    }
   ],
   "source": [
    "import mysql.connector\n",
    "from mysql.connector import Error\n",
    "\n",
    "def create_db_connection(host_name, user_name, user_password, db_name):\n",
    "    connection = None\n",
    "    try:\n",
    "        connection = mysql.connector.connect(\n",
    "            host=host_name,\n",
    "            user=user_name,\n",
    "            passwd=user_password,\n",
    "            database=db_name\n",
    "        )\n",
    "        print(\"MySQL database connection was successful\")\n",
    "    except Error as err:\n",
    "        print(f\"Error: {err}\")\n",
    "    return connection\n",
    "\n",
    "# Usage\n",
    "host_name = \"localhost\"\n",
    "user_name = \"root\"\n",
    "user_password = \"1Leviticus.\"\n",
    "db_name = \"python\"\n",
    "connection = create_db_connection(host_name, user_name, user_password, db_name)"
   ]
  },
  {
   "cell_type": "markdown",
   "id": "ed6a0a5a",
   "metadata": {},
   "source": [
    "def execute_query(connection, query):: This line defines the execute_query function, which accepts two parameters: connection (a database connection object) and query (a string containing the SQL query to execute).\n",
    "\n",
    "Inside the execute_query function:\n",
    "\n",
    "cursor = connection.cursor(): Creates a cursor object associated with the provided database connection. A cursor is used to execute SQL queries.\n",
    "\n",
    "A try block is used to attempt to execute the provided SQL query (query) using the cursor. If the execution is successful, it commits the changes made by the query (if any) to the database and prints a success message; otherwise, it catches any errors that occur and prints an error message.\n",
    "\n",
    "cursor.execute(query): Executes the SQL query using the cursor.\n",
    "connection.commit(): Commits the changes made by the query to the database. This is necessary for INSERT, UPDATE, DELETE, and some other queries that modify data.\n",
    "In case of a successful query execution, it prints \"query was successful.\"\n",
    "\n",
    "In case of an error during query execution, it catches the Error exception (defined earlier in the code) and prints an error message that includes the specific error details.\n",
    "\n",
    "You can use this execute_query function to execute SQL queries on a connected database conveniently, encapsulating the execution logic and error handling in a single function. For example, you could call this function with a database connection and an SQL query to insert data, update records, or retrieve data from the database."
   ]
  },
  {
   "cell_type": "code",
   "execution_count": 20,
   "id": "b0fec855",
   "metadata": {},
   "outputs": [],
   "source": [
    "def execute_query(connection,query):\n",
    "    cursor=connection.cursor()\n",
    "    try:\n",
    "        cursor.execute(query)\n",
    "        connection.commit()\n",
    "        print(\"query was succesful\")\n",
    "    except Error as err:\n",
    "        print(f\"Error: '{err}'\")\n",
    "        \n",
    "        "
   ]
  },
  {
   "cell_type": "code",
   "execution_count": null,
   "id": "4934192c",
   "metadata": {},
   "outputs": [],
   "source": []
  },
  {
   "cell_type": "code",
   "execution_count": 13,
   "id": "d6a6cc3e",
   "metadata": {},
   "outputs": [
    {
     "name": "stdout",
     "output_type": "stream",
     "text": [
      "MySQL database connection was successful\n",
      "query was succesful\n"
     ]
    }
   ],
   "source": [
    "#we will be creating a table where then we will add data into the table\n",
    "\n",
    "create_orders_table=\"\"\"\n",
    "create table orders(\n",
    "order_id int primary key,\n",
    "customer_name varchar(30)not null,\n",
    "product_name varchar(20)not null,\n",
    "date_ordered date ,\n",
    "quantity int,\n",
    "unit_price float,\n",
    "phone_number varchar(20)\n",
    ")\n",
    "\n",
    "\"\"\"\n",
    "connection=create_db_connection(\"localhost\",\"root\",pw,db)\n",
    "execute_query(connection,create_orders_table)"
   ]
  },
  {
   "cell_type": "code",
   "execution_count": 17,
   "id": "d57e96a2",
   "metadata": {},
   "outputs": [
    {
     "name": "stdout",
     "output_type": "stream",
     "text": [
      "MySQL database connection was successful\n",
      "query was succesful\n"
     ]
    }
   ],
   "source": [
    "data_orders=\"\"\"\n",
    "insert into orders values\n",
    "\n",
    "(1, 'John Doe', 'Widget A', '2023-09-10', 5, 10.99, '555-555-5555'),\n",
    "(2, 'Jane Smith', 'Widget B', '2023-09-11', 3, 15.49, '555-555-5556'),\n",
    "(3, 'Bob Johnson', 'Widget C', '2023-09-12', 10, 8.99, '555-555-5557'),\n",
    "(4, 'Alice Brown', 'Widget A', '2023-09-13', 7, 10.99, '555-555-5558'),\n",
    "(5, 'Ella Davis', 'Widget D', '2023-09-14', 2, 19.99, '555-555-5559'),\n",
    "(6, 'David Lee', 'Widget B', '2023-09-15', 4, 15.49, '555-555-5560'),\n",
    "(7, 'Grace Wilson', 'Widget C', '2023-09-16', 8, 8.99, '555-555-5561'),\n",
    "(8, 'Sam White', 'Widget A', '2023-09-17', 1, 10.99, '555-555-5562'),\n",
    "(9, 'Olivia Turner', 'Widget D', '2023-09-18', 6, 19.99, '555-555-5563'),\n",
    "(10, 'Sophia Harris', 'Widget B', '2023-09-19', 3, 15.49, '555-555-5564'),\n",
    "(11, 'Lucas Clark', 'Widget C', '2023-09-20', 9, 8.99, '555-555-5565'),\n",
    "(12, 'Liam Martin', 'Widget A', '2023-09-21', 5, 10.99, '555-555-5566'),\n",
    "(13, 'Mia Turner', 'Widget D', '2023-09-22', 2, 19.99, '555-555-5567'),\n",
    "(14, 'Ava Garcia', 'Widget B', '2023-09-23', 4, 15.49, '555-555-5568'),\n",
    "(15, 'Noah Jackson', 'Widget C', '2023-09-24', 7, 8.99, '555-555-5569'),\n",
    "(16, 'Emma Wilson', 'Widget A', '2023-09-25', 3, 10.99, '555-555-5570'),\n",
    "(17, 'Oliver Smith', 'Widget D', '2023-09-26', 5, 19.99, '555-555-5571'),\n",
    "(18, 'Lily Johnson', 'Widget B', '2023-09-27', 6, 15.49, '555-555-5572'),\n",
    "(19, 'Charlotte Brown', 'Widget C', '2023-09-28', 4, 8.99, '555-555-5573'),\n",
    "(20, 'James Davis', 'Widget A', '2023-09-29', 2, 10.99, '555-555-5574');\n",
    "\"\"\"\n",
    "connection=create_db_connection('localhost',\"root\",pw,db)\n",
    "execute_query(connection,data_orders)\n"
   ]
  },
  {
   "cell_type": "markdown",
   "id": "335a1fd0",
   "metadata": {},
   "source": [
    "def read_query(connection, query):: This line defines the read_query function, which takes two parameters: connection (a database connection object) and query (a string containing the SQL query to execute).\n",
    "\n",
    "Inside the read_query function:\n",
    "\n",
    "cursor = connection.cursor(): Creates a cursor object associated with the provided database connection. The cursor is used to execute SQL queries and retrieve results from the database.\n",
    "\n",
    "result = None: Initializes a variable named result to None. This variable will store the results of the query if it's successful.\n",
    "\n",
    "A try block is used to attempt to execute the provided SQL query (query) using the cursor. If the execution is successful, it:\n",
    "\n",
    "Executes the query using cursor.execute(query).\n",
    "Retrieves the results of the query using cursor.fetchall() and assigns them to the result variable.\n",
    "Returns the result variable, which contains the query results.\n",
    "If there is an error during query execution, the except block catches the Error exception (defined earlier in the code). It prints an error message that includes the specific error details but does not return any results.\n",
    "\n",
    "In case of a successful query execution, the function returns the query results stored in the result variable.\n",
    "\n",
    "In case of an error during query execution, it catches the Error exception, prints an error message that includes the specific error details, and does not return any results.\n",
    "\n",
    "You can use this read_query function to execute SELECT queries on a connected database and retrieve the results as a list of tuples. This function encapsulates the execution and result retrieval logic, making it convenient for querying databases and handling errors."
   ]
  },
  {
   "cell_type": "code",
   "execution_count": 18,
   "id": "829b727e",
   "metadata": {},
   "outputs": [],
   "source": [
    "def read_query(connection,query):\n",
    "    cursor=connection.cursor()\n",
    "    result =None\n",
    "    try:\n",
    "        cursor.execute(query)\n",
    "        result=cursor.fetchall()\n",
    "        return result\n",
    "    except Error as err:\n",
    "        print(f\"Error:'{err}'\")"
   ]
  },
  {
   "cell_type": "markdown",
   "id": "63bc5fc1",
   "metadata": {},
   "source": [
    "### we will sampling the dataset where we will be selecting all the datapoints using select all statement"
   ]
  },
  {
   "cell_type": "code",
   "execution_count": 23,
   "id": "8d4b44b4",
   "metadata": {},
   "outputs": [
    {
     "name": "stdout",
     "output_type": "stream",
     "text": [
      "MySQL database connection was successful\n",
      "(1, 'John Doe', 'Widget A', datetime.date(2023, 9, 10), 5, 10.99, '555-555-5555')\n",
      "(2, 'Jane Smith', 'Widget B', datetime.date(2023, 9, 11), 3, 15.49, '555-555-5556')\n",
      "(3, 'Bob Johnson', 'Widget C', datetime.date(2023, 9, 12), 10, 8.99, '555-555-5557')\n",
      "(4, 'Alice Brown', 'Widget A', datetime.date(2023, 9, 13), 7, 10.99, '555-555-5558')\n",
      "(5, 'Ella Davis', 'Widget D', datetime.date(2023, 9, 14), 2, 19.99, '555-555-5559')\n",
      "(6, 'David Lee', 'Widget B', datetime.date(2023, 9, 15), 4, 15.49, '555-555-5560')\n",
      "(7, 'Grace Wilson', 'Widget C', datetime.date(2023, 9, 16), 8, 8.99, '555-555-5561')\n",
      "(8, 'Sam White', 'Widget A', datetime.date(2023, 9, 17), 1, 10.99, '555-555-5562')\n",
      "(9, 'Olivia Turner', 'Widget D', datetime.date(2023, 9, 18), 6, 19.99, '555-555-5563')\n",
      "(10, 'Sophia Harris', 'Widget B', datetime.date(2023, 9, 19), 3, 15.49, '555-555-5564')\n",
      "(11, 'Lucas Clark', 'Widget C', datetime.date(2023, 9, 20), 9, 8.99, '555-555-5565')\n",
      "(12, 'Liam Martin', 'Widget A', datetime.date(2023, 9, 21), 5, 10.99, '555-555-5566')\n",
      "(13, 'Mia Turner', 'Widget D', datetime.date(2023, 9, 22), 2, 19.99, '555-555-5567')\n",
      "(14, 'Ava Garcia', 'Widget B', datetime.date(2023, 9, 23), 4, 15.49, '555-555-5568')\n",
      "(15, 'Noah Jackson', 'Widget C', datetime.date(2023, 9, 24), 7, 8.99, '555-555-5569')\n",
      "(16, 'Emma Wilson', 'Widget A', datetime.date(2023, 9, 25), 3, 10.99, '555-555-5570')\n",
      "(17, 'Oliver Smith', 'Widget D', datetime.date(2023, 9, 26), 5, 19.99, '555-555-5571')\n",
      "(18, 'Lily Johnson', 'Widget B', datetime.date(2023, 9, 27), 6, 15.49, '555-555-5572')\n",
      "(19, 'Charlotte Brown', 'Widget C', datetime.date(2023, 9, 28), 4, 8.99, '555-555-5573')\n",
      "(20, 'James Davis', 'Widget A', datetime.date(2023, 9, 29), 2, 10.99, '555-555-5574')\n"
     ]
    }
   ],
   "source": [
    "q1=\"\"\" \n",
    "select * from orders;\n",
    "\"\"\" \n",
    "connection=create_db_connection(\"localhost\",\"root\",pw,db)\n",
    "results=read_query(connection,q1)\n",
    "for result in results:\n",
    "    print(result)"
   ]
  },
  {
   "cell_type": "markdown",
   "id": "3ee81816",
   "metadata": {},
   "source": [
    "### we will obtaining  the customer_name,phone-number only as the columns"
   ]
  },
  {
   "cell_type": "code",
   "execution_count": 26,
   "id": "27902664",
   "metadata": {},
   "outputs": [
    {
     "name": "stdout",
     "output_type": "stream",
     "text": [
      "MySQL database connection was successful\n",
      "('John Doe', '555-555-5555')\n",
      "('Jane Smith', '555-555-5556')\n",
      "('Bob Johnson', '555-555-5557')\n",
      "('Alice Brown', '555-555-5558')\n",
      "('Ella Davis', '555-555-5559')\n",
      "('David Lee', '555-555-5560')\n",
      "('Grace Wilson', '555-555-5561')\n",
      "('Sam White', '555-555-5562')\n",
      "('Olivia Turner', '555-555-5563')\n",
      "('Sophia Harris', '555-555-5564')\n",
      "('Lucas Clark', '555-555-5565')\n",
      "('Liam Martin', '555-555-5566')\n",
      "('Mia Turner', '555-555-5567')\n",
      "('Ava Garcia', '555-555-5568')\n",
      "('Noah Jackson', '555-555-5569')\n",
      "('Emma Wilson', '555-555-5570')\n",
      "('Oliver Smith', '555-555-5571')\n",
      "('Lily Johnson', '555-555-5572')\n",
      "('Charlotte Brown', '555-555-5573')\n",
      "('James Davis', '555-555-5574')\n"
     ]
    }
   ],
   "source": [
    "q2=\"\"\" \n",
    "select  customer_name,phone_number from orders;\n",
    "\"\"\" \n",
    "connection=create_db_connection(\"localhost\",\"root\",pw,db)\n",
    "results=read_query(connection,q2)\n",
    "for result in results:\n",
    "    print(result)"
   ]
  },
  {
   "cell_type": "markdown",
   "id": "21c268e0",
   "metadata": {},
   "source": [
    "### we will be obtaining the list of years where orders"
   ]
  },
  {
   "cell_type": "code",
   "execution_count": 27,
   "id": "7bd5f00b",
   "metadata": {},
   "outputs": [
    {
     "name": "stdout",
     "output_type": "stream",
     "text": [
      "MySQL database connection was successful\n",
      "(2023,)\n",
      "(2023,)\n",
      "(2023,)\n",
      "(2023,)\n",
      "(2023,)\n",
      "(2023,)\n",
      "(2023,)\n",
      "(2023,)\n",
      "(2023,)\n",
      "(2023,)\n",
      "(2023,)\n",
      "(2023,)\n",
      "(2023,)\n",
      "(2023,)\n",
      "(2023,)\n",
      "(2023,)\n",
      "(2023,)\n",
      "(2023,)\n",
      "(2023,)\n",
      "(2023,)\n"
     ]
    }
   ],
   "source": [
    "q3=\"\"\" \n",
    "select  year(date_ordered) from orders;\n",
    "\"\"\" \n",
    "connection=create_db_connection(\"localhost\",\"root\",pw,db)\n",
    "results=read_query(connection,q3)\n",
    "for result in results:\n",
    "    print(result)"
   ]
  },
  {
   "cell_type": "markdown",
   "id": "1ea9372d",
   "metadata": {},
   "source": [
    "### We wiill be obtaining the dinstict years columns"
   ]
  },
  {
   "cell_type": "code",
   "execution_count": 29,
   "id": "c1b4cf6e",
   "metadata": {},
   "outputs": [
    {
     "name": "stdout",
     "output_type": "stream",
     "text": [
      "MySQL database connection was successful\n",
      "(2023,)\n"
     ]
    }
   ],
   "source": [
    "q4=\"\"\" \n",
    "select distinct year(date_ordered) from orders;\n",
    "\"\"\" \n",
    "connection=create_db_connection(\"localhost\",\"root\",pw,db)\n",
    "results=read_query(connection,q4)\n",
    "for result in results:\n",
    "    print(result)"
   ]
  },
  {
   "cell_type": "markdown",
   "id": "f4c99550",
   "metadata": {},
   "source": [
    "### commands to access data from a a particular data"
   ]
  },
  {
   "cell_type": "code",
   "execution_count": 34,
   "id": "c3263686",
   "metadata": {
    "scrolled": true
   },
   "outputs": [
    {
     "name": "stdout",
     "output_type": "stream",
     "text": [
      "MySQL database connection was successful\n",
      "(1, 'John Doe', 'Widget A', datetime.date(2023, 9, 10), 5, 10.99, '555-555-5555')\n",
      "(2, 'Jane Smith', 'Widget B', datetime.date(2023, 9, 11), 3, 15.49, '555-555-5556')\n",
      "(3, 'Bob Johnson', 'Widget C', datetime.date(2023, 9, 12), 10, 8.99, '555-555-5557')\n",
      "(4, 'Alice Brown', 'Widget A', datetime.date(2023, 9, 13), 7, 10.99, '555-555-5558')\n",
      "(5, 'Ella Davis', 'Widget D', datetime.date(2023, 9, 14), 2, 19.99, '555-555-5559')\n",
      "(6, 'David Lee', 'Widget B', datetime.date(2023, 9, 15), 4, 15.49, '555-555-5560')\n",
      "(7, 'Grace Wilson', 'Widget C', datetime.date(2023, 9, 16), 8, 8.99, '555-555-5561')\n",
      "(8, 'Sam White', 'Widget A', datetime.date(2023, 9, 17), 1, 10.99, '555-555-5562')\n",
      "(9, 'Olivia Turner', 'Widget D', datetime.date(2023, 9, 18), 6, 19.99, '555-555-5563')\n",
      "(10, 'Sophia Harris', 'Widget B', datetime.date(2023, 9, 19), 3, 15.49, '555-555-5564')\n"
     ]
    }
   ],
   "source": [
    "q5=\"\"\" \n",
    "select * from orders where date_ordered < '2023-09-20' ;\n",
    "\"\"\" \n",
    "connection=create_db_connection(\"localhost\",\"root\",pw,db)\n",
    "results=read_query(connection,q5)\n",
    "for result in results:\n",
    "    print(result)"
   ]
  },
  {
   "cell_type": "code",
   "execution_count": 35,
   "id": "80a79506",
   "metadata": {},
   "outputs": [
    {
     "name": "stdout",
     "output_type": "stream",
     "text": [
      "MySQL database connection was successful\n",
      "(12, 'Liam Martin', 'Widget A', datetime.date(2023, 9, 21), 5, 10.99, '555-555-5566')\n",
      "(13, 'Mia Turner', 'Widget D', datetime.date(2023, 9, 22), 2, 19.99, '555-555-5567')\n",
      "(14, 'Ava Garcia', 'Widget B', datetime.date(2023, 9, 23), 4, 15.49, '555-555-5568')\n",
      "(15, 'Noah Jackson', 'Widget C', datetime.date(2023, 9, 24), 7, 8.99, '555-555-5569')\n",
      "(16, 'Emma Wilson', 'Widget A', datetime.date(2023, 9, 25), 3, 10.99, '555-555-5570')\n",
      "(17, 'Oliver Smith', 'Widget D', datetime.date(2023, 9, 26), 5, 19.99, '555-555-5571')\n",
      "(18, 'Lily Johnson', 'Widget B', datetime.date(2023, 9, 27), 6, 15.49, '555-555-5572')\n",
      "(19, 'Charlotte Brown', 'Widget C', datetime.date(2023, 9, 28), 4, 8.99, '555-555-5573')\n",
      "(20, 'James Davis', 'Widget A', datetime.date(2023, 9, 29), 2, 10.99, '555-555-5574')\n"
     ]
    }
   ],
   "source": [
    "q6=\"\"\" \n",
    "select * from orders where date_ordered > '2023-09-20' ;\n",
    "\"\"\" \n",
    "connection=create_db_connection(\"localhost\",\"root\",pw,db)\n",
    "results=read_query(connection,q6)\n",
    "for result in results:\n",
    "    print(result)"
   ]
  },
  {
   "cell_type": "markdown",
   "id": "4c623669",
   "metadata": {},
   "source": [
    "### using the order by column"
   ]
  },
  {
   "cell_type": "code",
   "execution_count": 36,
   "id": "05fc689e",
   "metadata": {},
   "outputs": [
    {
     "name": "stdout",
     "output_type": "stream",
     "text": [
      "MySQL database connection was successful\n",
      "(3, 'Bob Johnson', 'Widget C', datetime.date(2023, 9, 12), 10, 8.99, '555-555-5557')\n",
      "(7, 'Grace Wilson', 'Widget C', datetime.date(2023, 9, 16), 8, 8.99, '555-555-5561')\n",
      "(11, 'Lucas Clark', 'Widget C', datetime.date(2023, 9, 20), 9, 8.99, '555-555-5565')\n",
      "(15, 'Noah Jackson', 'Widget C', datetime.date(2023, 9, 24), 7, 8.99, '555-555-5569')\n",
      "(19, 'Charlotte Brown', 'Widget C', datetime.date(2023, 9, 28), 4, 8.99, '555-555-5573')\n",
      "(1, 'John Doe', 'Widget A', datetime.date(2023, 9, 10), 5, 10.99, '555-555-5555')\n",
      "(4, 'Alice Brown', 'Widget A', datetime.date(2023, 9, 13), 7, 10.99, '555-555-5558')\n",
      "(8, 'Sam White', 'Widget A', datetime.date(2023, 9, 17), 1, 10.99, '555-555-5562')\n",
      "(12, 'Liam Martin', 'Widget A', datetime.date(2023, 9, 21), 5, 10.99, '555-555-5566')\n",
      "(16, 'Emma Wilson', 'Widget A', datetime.date(2023, 9, 25), 3, 10.99, '555-555-5570')\n",
      "(20, 'James Davis', 'Widget A', datetime.date(2023, 9, 29), 2, 10.99, '555-555-5574')\n",
      "(2, 'Jane Smith', 'Widget B', datetime.date(2023, 9, 11), 3, 15.49, '555-555-5556')\n",
      "(6, 'David Lee', 'Widget B', datetime.date(2023, 9, 15), 4, 15.49, '555-555-5560')\n",
      "(10, 'Sophia Harris', 'Widget B', datetime.date(2023, 9, 19), 3, 15.49, '555-555-5564')\n",
      "(14, 'Ava Garcia', 'Widget B', datetime.date(2023, 9, 23), 4, 15.49, '555-555-5568')\n",
      "(18, 'Lily Johnson', 'Widget B', datetime.date(2023, 9, 27), 6, 15.49, '555-555-5572')\n",
      "(5, 'Ella Davis', 'Widget D', datetime.date(2023, 9, 14), 2, 19.99, '555-555-5559')\n",
      "(9, 'Olivia Turner', 'Widget D', datetime.date(2023, 9, 18), 6, 19.99, '555-555-5563')\n",
      "(13, 'Mia Turner', 'Widget D', datetime.date(2023, 9, 22), 2, 19.99, '555-555-5567')\n",
      "(17, 'Oliver Smith', 'Widget D', datetime.date(2023, 9, 26), 5, 19.99, '555-555-5571')\n"
     ]
    }
   ],
   "source": [
    "q7=\"\"\" \n",
    "select * from orders  order by unit_price;\n",
    "\"\"\" \n",
    "connection=create_db_connection(\"localhost\",\"root\",pw,db)\n",
    "results=read_query(connection,q7)\n",
    "for result in results:\n",
    "    print(result)"
   ]
  },
  {
   "cell_type": "markdown",
   "id": "faa58e96",
   "metadata": {},
   "source": [
    "### We will be  adding all the data and storing all the data in a dataframe"
   ]
  },
  {
   "cell_type": "code",
   "execution_count": 40,
   "id": "b78fe9bb",
   "metadata": {},
   "outputs": [
    {
     "data": {
      "text/html": [
       "<div>\n",
       "<style scoped>\n",
       "    .dataframe tbody tr th:only-of-type {\n",
       "        vertical-align: middle;\n",
       "    }\n",
       "\n",
       "    .dataframe tbody tr th {\n",
       "        vertical-align: top;\n",
       "    }\n",
       "\n",
       "    .dataframe thead th {\n",
       "        text-align: right;\n",
       "    }\n",
       "</style>\n",
       "<table border=\"1\" class=\"dataframe\">\n",
       "  <thead>\n",
       "    <tr style=\"text-align: right;\">\n",
       "      <th></th>\n",
       "      <th>order_id</th>\n",
       "      <th>customer_name</th>\n",
       "      <th>product_name</th>\n",
       "      <th>date_ordered</th>\n",
       "      <th>quantity</th>\n",
       "      <th>unit_price</th>\n",
       "      <th>phone_number</th>\n",
       "    </tr>\n",
       "  </thead>\n",
       "  <tbody>\n",
       "    <tr>\n",
       "      <th>0</th>\n",
       "      <td>3</td>\n",
       "      <td>Bob Johnson</td>\n",
       "      <td>Widget C</td>\n",
       "      <td>2023-09-12</td>\n",
       "      <td>10</td>\n",
       "      <td>8.99</td>\n",
       "      <td>555-555-5557</td>\n",
       "    </tr>\n",
       "    <tr>\n",
       "      <th>1</th>\n",
       "      <td>7</td>\n",
       "      <td>Grace Wilson</td>\n",
       "      <td>Widget C</td>\n",
       "      <td>2023-09-16</td>\n",
       "      <td>8</td>\n",
       "      <td>8.99</td>\n",
       "      <td>555-555-5561</td>\n",
       "    </tr>\n",
       "    <tr>\n",
       "      <th>2</th>\n",
       "      <td>11</td>\n",
       "      <td>Lucas Clark</td>\n",
       "      <td>Widget C</td>\n",
       "      <td>2023-09-20</td>\n",
       "      <td>9</td>\n",
       "      <td>8.99</td>\n",
       "      <td>555-555-5565</td>\n",
       "    </tr>\n",
       "    <tr>\n",
       "      <th>3</th>\n",
       "      <td>15</td>\n",
       "      <td>Noah Jackson</td>\n",
       "      <td>Widget C</td>\n",
       "      <td>2023-09-24</td>\n",
       "      <td>7</td>\n",
       "      <td>8.99</td>\n",
       "      <td>555-555-5569</td>\n",
       "    </tr>\n",
       "    <tr>\n",
       "      <th>4</th>\n",
       "      <td>19</td>\n",
       "      <td>Charlotte Brown</td>\n",
       "      <td>Widget C</td>\n",
       "      <td>2023-09-28</td>\n",
       "      <td>4</td>\n",
       "      <td>8.99</td>\n",
       "      <td>555-555-5573</td>\n",
       "    </tr>\n",
       "    <tr>\n",
       "      <th>5</th>\n",
       "      <td>1</td>\n",
       "      <td>John Doe</td>\n",
       "      <td>Widget A</td>\n",
       "      <td>2023-09-10</td>\n",
       "      <td>5</td>\n",
       "      <td>10.99</td>\n",
       "      <td>555-555-5555</td>\n",
       "    </tr>\n",
       "    <tr>\n",
       "      <th>6</th>\n",
       "      <td>4</td>\n",
       "      <td>Alice Brown</td>\n",
       "      <td>Widget A</td>\n",
       "      <td>2023-09-13</td>\n",
       "      <td>7</td>\n",
       "      <td>10.99</td>\n",
       "      <td>555-555-5558</td>\n",
       "    </tr>\n",
       "    <tr>\n",
       "      <th>7</th>\n",
       "      <td>8</td>\n",
       "      <td>Sam White</td>\n",
       "      <td>Widget A</td>\n",
       "      <td>2023-09-17</td>\n",
       "      <td>1</td>\n",
       "      <td>10.99</td>\n",
       "      <td>555-555-5562</td>\n",
       "    </tr>\n",
       "    <tr>\n",
       "      <th>8</th>\n",
       "      <td>12</td>\n",
       "      <td>Liam Martin</td>\n",
       "      <td>Widget A</td>\n",
       "      <td>2023-09-21</td>\n",
       "      <td>5</td>\n",
       "      <td>10.99</td>\n",
       "      <td>555-555-5566</td>\n",
       "    </tr>\n",
       "    <tr>\n",
       "      <th>9</th>\n",
       "      <td>16</td>\n",
       "      <td>Emma Wilson</td>\n",
       "      <td>Widget A</td>\n",
       "      <td>2023-09-25</td>\n",
       "      <td>3</td>\n",
       "      <td>10.99</td>\n",
       "      <td>555-555-5570</td>\n",
       "    </tr>\n",
       "    <tr>\n",
       "      <th>10</th>\n",
       "      <td>20</td>\n",
       "      <td>James Davis</td>\n",
       "      <td>Widget A</td>\n",
       "      <td>2023-09-29</td>\n",
       "      <td>2</td>\n",
       "      <td>10.99</td>\n",
       "      <td>555-555-5574</td>\n",
       "    </tr>\n",
       "    <tr>\n",
       "      <th>11</th>\n",
       "      <td>2</td>\n",
       "      <td>Jane Smith</td>\n",
       "      <td>Widget B</td>\n",
       "      <td>2023-09-11</td>\n",
       "      <td>3</td>\n",
       "      <td>15.49</td>\n",
       "      <td>555-555-5556</td>\n",
       "    </tr>\n",
       "    <tr>\n",
       "      <th>12</th>\n",
       "      <td>6</td>\n",
       "      <td>David Lee</td>\n",
       "      <td>Widget B</td>\n",
       "      <td>2023-09-15</td>\n",
       "      <td>4</td>\n",
       "      <td>15.49</td>\n",
       "      <td>555-555-5560</td>\n",
       "    </tr>\n",
       "    <tr>\n",
       "      <th>13</th>\n",
       "      <td>10</td>\n",
       "      <td>Sophia Harris</td>\n",
       "      <td>Widget B</td>\n",
       "      <td>2023-09-19</td>\n",
       "      <td>3</td>\n",
       "      <td>15.49</td>\n",
       "      <td>555-555-5564</td>\n",
       "    </tr>\n",
       "    <tr>\n",
       "      <th>14</th>\n",
       "      <td>14</td>\n",
       "      <td>Ava Garcia</td>\n",
       "      <td>Widget B</td>\n",
       "      <td>2023-09-23</td>\n",
       "      <td>4</td>\n",
       "      <td>15.49</td>\n",
       "      <td>555-555-5568</td>\n",
       "    </tr>\n",
       "    <tr>\n",
       "      <th>15</th>\n",
       "      <td>18</td>\n",
       "      <td>Lily Johnson</td>\n",
       "      <td>Widget B</td>\n",
       "      <td>2023-09-27</td>\n",
       "      <td>6</td>\n",
       "      <td>15.49</td>\n",
       "      <td>555-555-5572</td>\n",
       "    </tr>\n",
       "    <tr>\n",
       "      <th>16</th>\n",
       "      <td>5</td>\n",
       "      <td>Ella Davis</td>\n",
       "      <td>Widget D</td>\n",
       "      <td>2023-09-14</td>\n",
       "      <td>2</td>\n",
       "      <td>19.99</td>\n",
       "      <td>555-555-5559</td>\n",
       "    </tr>\n",
       "    <tr>\n",
       "      <th>17</th>\n",
       "      <td>9</td>\n",
       "      <td>Olivia Turner</td>\n",
       "      <td>Widget D</td>\n",
       "      <td>2023-09-18</td>\n",
       "      <td>6</td>\n",
       "      <td>19.99</td>\n",
       "      <td>555-555-5563</td>\n",
       "    </tr>\n",
       "    <tr>\n",
       "      <th>18</th>\n",
       "      <td>13</td>\n",
       "      <td>Mia Turner</td>\n",
       "      <td>Widget D</td>\n",
       "      <td>2023-09-22</td>\n",
       "      <td>2</td>\n",
       "      <td>19.99</td>\n",
       "      <td>555-555-5567</td>\n",
       "    </tr>\n",
       "    <tr>\n",
       "      <th>19</th>\n",
       "      <td>17</td>\n",
       "      <td>Oliver Smith</td>\n",
       "      <td>Widget D</td>\n",
       "      <td>2023-09-26</td>\n",
       "      <td>5</td>\n",
       "      <td>19.99</td>\n",
       "      <td>555-555-5571</td>\n",
       "    </tr>\n",
       "  </tbody>\n",
       "</table>\n",
       "</div>"
      ],
      "text/plain": [
       "    order_id    customer_name product_name date_ordered  quantity  unit_price  \\\n",
       "0          3      Bob Johnson     Widget C   2023-09-12        10        8.99   \n",
       "1          7     Grace Wilson     Widget C   2023-09-16         8        8.99   \n",
       "2         11      Lucas Clark     Widget C   2023-09-20         9        8.99   \n",
       "3         15     Noah Jackson     Widget C   2023-09-24         7        8.99   \n",
       "4         19  Charlotte Brown     Widget C   2023-09-28         4        8.99   \n",
       "5          1         John Doe     Widget A   2023-09-10         5       10.99   \n",
       "6          4      Alice Brown     Widget A   2023-09-13         7       10.99   \n",
       "7          8        Sam White     Widget A   2023-09-17         1       10.99   \n",
       "8         12      Liam Martin     Widget A   2023-09-21         5       10.99   \n",
       "9         16      Emma Wilson     Widget A   2023-09-25         3       10.99   \n",
       "10        20      James Davis     Widget A   2023-09-29         2       10.99   \n",
       "11         2       Jane Smith     Widget B   2023-09-11         3       15.49   \n",
       "12         6        David Lee     Widget B   2023-09-15         4       15.49   \n",
       "13        10    Sophia Harris     Widget B   2023-09-19         3       15.49   \n",
       "14        14       Ava Garcia     Widget B   2023-09-23         4       15.49   \n",
       "15        18     Lily Johnson     Widget B   2023-09-27         6       15.49   \n",
       "16         5       Ella Davis     Widget D   2023-09-14         2       19.99   \n",
       "17         9    Olivia Turner     Widget D   2023-09-18         6       19.99   \n",
       "18        13       Mia Turner     Widget D   2023-09-22         2       19.99   \n",
       "19        17     Oliver Smith     Widget D   2023-09-26         5       19.99   \n",
       "\n",
       "    phone_number  \n",
       "0   555-555-5557  \n",
       "1   555-555-5561  \n",
       "2   555-555-5565  \n",
       "3   555-555-5569  \n",
       "4   555-555-5573  \n",
       "5   555-555-5555  \n",
       "6   555-555-5558  \n",
       "7   555-555-5562  \n",
       "8   555-555-5566  \n",
       "9   555-555-5570  \n",
       "10  555-555-5574  \n",
       "11  555-555-5556  \n",
       "12  555-555-5560  \n",
       "13  555-555-5564  \n",
       "14  555-555-5568  \n",
       "15  555-555-5572  \n",
       "16  555-555-5559  \n",
       "17  555-555-5563  \n",
       "18  555-555-5567  \n",
       "19  555-555-5571  "
      ]
     },
     "metadata": {},
     "output_type": "display_data"
    }
   ],
   "source": [
    "from_db=[]\n",
    "for result in results:\n",
    "    result =list(result)\n",
    "    from_db.append(result)\n",
    "    columns=[\"order_id\",\"customer_name\",\"product_name\",\"date_ordered\",\"quantity\",\"unit_price\",\"phone_number\"]\n",
    "df=pd.DataFrame(from_db,columns=columns)\n",
    "display(df)\n",
    "    "
   ]
  },
  {
   "cell_type": "markdown",
   "id": "8d11695e",
   "metadata": {},
   "source": [
    "### UPDATE"
   ]
  },
  {
   "cell_type": "code",
   "execution_count": 44,
   "id": "38c84c83",
   "metadata": {},
   "outputs": [
    {
     "name": "stdout",
     "output_type": "stream",
     "text": [
      "MySQL database connection was successful\n",
      "query was succesful\n"
     ]
    }
   ],
   "source": [
    "update =\"\"\" \n",
    "update orders\n",
    "set unit_price=45\n",
    "where order_id =3\n",
    "\"\"\" \n",
    "connection =create_db_connection(\"localhost\",\"root\",pw,db)\n",
    "execute_query(connection,update)\n",
    "\n"
   ]
  },
  {
   "cell_type": "code",
   "execution_count": 45,
   "id": "c5f21f9c",
   "metadata": {},
   "outputs": [
    {
     "name": "stdout",
     "output_type": "stream",
     "text": [
      "MySQL database connection was successful\n",
      "(3, 'Bob Johnson', 'Widget C', datetime.date(2023, 9, 12), 10, 45.0, '555-555-5557')\n"
     ]
    }
   ],
   "source": [
    "q8=\"\"\" \n",
    "select * from orders where order_id =3;\n",
    "\"\"\" \n",
    "connection=create_db_connection(\"localhost\",\"root\",pw,db)\n",
    "results=read_query(connection,q8)\n",
    "for result in results:\n",
    "    print(result)"
   ]
  },
  {
   "cell_type": "markdown",
   "id": "90311bf1",
   "metadata": {},
   "source": [
    "### DELETE"
   ]
  },
  {
   "cell_type": "code",
   "execution_count": 49,
   "id": "881137ac",
   "metadata": {},
   "outputs": [
    {
     "name": "stdout",
     "output_type": "stream",
     "text": [
      "MySQL database connection was successful\n",
      "query was succesful\n"
     ]
    }
   ],
   "source": [
    "delete_order =\"\"\" \n",
    "delete from orders\n",
    "where order_id  = 3;\n",
    "\"\"\"\n",
    "connection =create_db_connection(\"localhost\",\"root\",pw,db)\n",
    "execute_query(connection,update)\n"
   ]
  },
  {
   "cell_type": "code",
   "execution_count": 50,
   "id": "e4b26eac",
   "metadata": {
    "scrolled": true
   },
   "outputs": [
    {
     "name": "stdout",
     "output_type": "stream",
     "text": [
      "MySQL database connection was successful\n",
      "(1, 'John Doe', 'Widget A', datetime.date(2023, 9, 10), 5, 10.99, '555-555-5555')\n",
      "(2, 'Jane Smith', 'Widget B', datetime.date(2023, 9, 11), 3, 15.49, '555-555-5556')\n",
      "(3, 'Bob Johnson', 'Widget C', datetime.date(2023, 9, 12), 10, 45.0, '555-555-5557')\n",
      "(4, 'Alice Brown', 'Widget A', datetime.date(2023, 9, 13), 7, 10.99, '555-555-5558')\n",
      "(5, 'Ella Davis', 'Widget D', datetime.date(2023, 9, 14), 2, 19.99, '555-555-5559')\n",
      "(6, 'David Lee', 'Widget B', datetime.date(2023, 9, 15), 4, 15.49, '555-555-5560')\n",
      "(7, 'Grace Wilson', 'Widget C', datetime.date(2023, 9, 16), 8, 8.99, '555-555-5561')\n",
      "(8, 'Sam White', 'Widget A', datetime.date(2023, 9, 17), 1, 10.99, '555-555-5562')\n",
      "(9, 'Olivia Turner', 'Widget D', datetime.date(2023, 9, 18), 6, 19.99, '555-555-5563')\n",
      "(10, 'Sophia Harris', 'Widget B', datetime.date(2023, 9, 19), 3, 15.49, '555-555-5564')\n",
      "(11, 'Lucas Clark', 'Widget C', datetime.date(2023, 9, 20), 9, 8.99, '555-555-5565')\n",
      "(12, 'Liam Martin', 'Widget A', datetime.date(2023, 9, 21), 5, 10.99, '555-555-5566')\n",
      "(13, 'Mia Turner', 'Widget D', datetime.date(2023, 9, 22), 2, 19.99, '555-555-5567')\n",
      "(14, 'Ava Garcia', 'Widget B', datetime.date(2023, 9, 23), 4, 15.49, '555-555-5568')\n",
      "(15, 'Noah Jackson', 'Widget C', datetime.date(2023, 9, 24), 7, 8.99, '555-555-5569')\n",
      "(16, 'Emma Wilson', 'Widget A', datetime.date(2023, 9, 25), 3, 10.99, '555-555-5570')\n",
      "(17, 'Oliver Smith', 'Widget D', datetime.date(2023, 9, 26), 5, 19.99, '555-555-5571')\n",
      "(18, 'Lily Johnson', 'Widget B', datetime.date(2023, 9, 27), 6, 15.49, '555-555-5572')\n",
      "(19, 'Charlotte Brown', 'Widget C', datetime.date(2023, 9, 28), 4, 8.99, '555-555-5573')\n",
      "(20, 'James Davis', 'Widget A', datetime.date(2023, 9, 29), 2, 10.99, '555-555-5574')\n"
     ]
    }
   ],
   "source": [
    "q9=\"\"\" \n",
    "select * from orders ;\n",
    "\"\"\" \n",
    "connection=create_db_connection(\"localhost\",\"root\",pw,db)\n",
    "results=read_query(connection,q9)\n",
    "for result in results:\n",
    "    print(result)"
   ]
  },
  {
   "cell_type": "markdown",
   "id": "506d6d75",
   "metadata": {},
   "source": [
    "### creating subqueries"
   ]
  },
  {
   "cell_type": "code",
   "execution_count": 52,
   "id": "90235e90",
   "metadata": {},
   "outputs": [
    {
     "name": "stdout",
     "output_type": "stream",
     "text": [
      "MySQL database connection was successful\n",
      "(2, 'Jane Smith', 'Widget B', datetime.date(2023, 9, 11), 3, 15.49, '555-555-5556')\n",
      "(6, 'David Lee', 'Widget B', datetime.date(2023, 9, 15), 4, 15.49, '555-555-5560')\n",
      "(10, 'Sophia Harris', 'Widget B', datetime.date(2023, 9, 19), 3, 15.49, '555-555-5564')\n",
      "(14, 'Ava Garcia', 'Widget B', datetime.date(2023, 9, 23), 4, 15.49, '555-555-5568')\n",
      "(18, 'Lily Johnson', 'Widget B', datetime.date(2023, 9, 27), 6, 15.49, '555-555-5572')\n",
      "(5, 'Ella Davis', 'Widget D', datetime.date(2023, 9, 14), 2, 19.99, '555-555-5559')\n",
      "(9, 'Olivia Turner', 'Widget D', datetime.date(2023, 9, 18), 6, 19.99, '555-555-5563')\n",
      "(13, 'Mia Turner', 'Widget D', datetime.date(2023, 9, 22), 2, 19.99, '555-555-5567')\n",
      "(17, 'Oliver Smith', 'Widget D', datetime.date(2023, 9, 26), 5, 19.99, '555-555-5571')\n",
      "(3, 'Bob Johnson', 'Widget C', datetime.date(2023, 9, 12), 10, 45.0, '555-555-5557')\n"
     ]
    }
   ],
   "source": [
    "# the qurey returns items whre the price is above average price\n",
    "q10 = \"\"\"\n",
    "SELECT *\n",
    "FROM orders\n",
    "WHERE unit_price > (SELECT AVG(unit_price) FROM orders)\n",
    "ORDER BY unit_price;\n",
    "\"\"\"\n",
    "connection=create_db_connection(\"localhost\",\"root\",pw,db)\n",
    "results=read_query(connection,q10)\n",
    "for result in results:\n",
    "    print(result)"
   ]
  },
  {
   "cell_type": "markdown",
   "id": "140ff531",
   "metadata": {},
   "source": [
    "### ORDER BY + LIMIT"
   ]
  },
  {
   "cell_type": "code",
   "execution_count": 55,
   "id": "9ad4d197",
   "metadata": {},
   "outputs": [
    {
     "name": "stdout",
     "output_type": "stream",
     "text": [
      "MySQL database connection was successful\n",
      "(3, 'Bob Johnson', 'Widget C', datetime.date(2023, 9, 12), 10, 45.0, '555-555-5557')\n",
      "(11, 'Lucas Clark', 'Widget C', datetime.date(2023, 9, 20), 9, 8.99, '555-555-5565')\n",
      "(7, 'Grace Wilson', 'Widget C', datetime.date(2023, 9, 16), 8, 8.99, '555-555-5561')\n",
      "(4, 'Alice Brown', 'Widget A', datetime.date(2023, 9, 13), 7, 10.99, '555-555-5558')\n",
      "(15, 'Noah Jackson', 'Widget C', datetime.date(2023, 9, 24), 7, 8.99, '555-555-5569')\n",
      "(9, 'Olivia Turner', 'Widget D', datetime.date(2023, 9, 18), 6, 19.99, '555-555-5563')\n",
      "(18, 'Lily Johnson', 'Widget B', datetime.date(2023, 9, 27), 6, 15.49, '555-555-5572')\n",
      "(1, 'John Doe', 'Widget A', datetime.date(2023, 9, 10), 5, 10.99, '555-555-5555')\n",
      "(12, 'Liam Martin', 'Widget A', datetime.date(2023, 9, 21), 5, 10.99, '555-555-5566')\n",
      "(17, 'Oliver Smith', 'Widget D', datetime.date(2023, 9, 26), 5, 19.99, '555-555-5571')\n"
     ]
    }
   ],
   "source": [
    "#This query retrieves the top 10 orders with the highest order quantities and orders them \n",
    "#by order quantity in descending order.\n",
    "q11 = \"\"\"\n",
    "SELECT *\n",
    "FROM orders\n",
    "ORDER BY quantity DESC\n",
    "LIMIT 10;\n",
    "\"\"\"\n",
    "connection=create_db_connection(\"localhost\",\"root\",pw,db)\n",
    "results=read_query(connection,q11)\n",
    "for result in results:\n",
    "    print(result)"
   ]
  },
  {
   "cell_type": "markdown",
   "id": "5c3ccc65",
   "metadata": {},
   "source": [
    "### MAX AND MIN"
   ]
  },
  {
   "cell_type": "code",
   "execution_count": 56,
   "id": "dd270bc7",
   "metadata": {},
   "outputs": [
    {
     "name": "stdout",
     "output_type": "stream",
     "text": [
      "MySQL database connection was successful\n",
      "(7, 'Grace Wilson', 'Widget C', datetime.date(2023, 9, 16), 8, 8.99, '555-555-5561')\n",
      "(11, 'Lucas Clark', 'Widget C', datetime.date(2023, 9, 20), 9, 8.99, '555-555-5565')\n",
      "(15, 'Noah Jackson', 'Widget C', datetime.date(2023, 9, 24), 7, 8.99, '555-555-5569')\n",
      "(19, 'Charlotte Brown', 'Widget C', datetime.date(2023, 9, 28), 4, 8.99, '555-555-5573')\n",
      "(3, 'Bob Johnson', 'Widget C', datetime.date(2023, 9, 12), 10, 45.0, '555-555-5557')\n"
     ]
    }
   ],
   "source": [
    "#This query retrieves orders with the highest and lowest unit prices in your \"orders\" table.\n",
    "q12 = \"\"\"\n",
    "SELECT *\n",
    "FROM orders\n",
    "WHERE unit_price = (SELECT MAX(unit_price) FROM orders)\n",
    "   OR unit_price = (SELECT MIN(unit_price) FROM orders)\n",
    "ORDER BY unit_price;\n",
    "\"\"\"\n",
    "connection=create_db_connection(\"localhost\",\"root\",pw,db)\n",
    "results=read_query(connection,q12)\n",
    "for result in results:\n",
    "    print(result)"
   ]
  },
  {
   "cell_type": "markdown",
   "id": "3754e60a",
   "metadata": {},
   "source": [
    "### ORDER +GROUP BY"
   ]
  },
  {
   "cell_type": "code",
   "execution_count": 59,
   "id": "b5dee6bb",
   "metadata": {
    "scrolled": true
   },
   "outputs": [
    {
     "name": "stdout",
     "output_type": "stream",
     "text": [
      "MySQL database connection was successful\n",
      "('Widget C', Decimal('7.6000'))\n",
      "('Widget B', Decimal('4.0000'))\n",
      "('Widget A', Decimal('3.8333'))\n",
      "('Widget D', Decimal('3.7500'))\n"
     ]
    }
   ],
   "source": [
    "#We will be grouping the products by calculating the average units sold and rank them based on avaerage units \n",
    "#sold per product\n",
    "q13=\"\"\" \n",
    "SELECT product_name, AVG(quantity) AS average_units\n",
    "FROM orders\n",
    "GROUP BY product_name\n",
    "ORDER BY average_units DESC;\n",
    "\"\"\" \n",
    "connection=create_db_connection(\"localhost\",\"root\",pw,db)\n",
    "results=read_query(connection,q13)\n",
    "for result in results:\n",
    "    print(result)"
   ]
  },
  {
   "cell_type": "code",
   "execution_count": 60,
   "id": "1fff02b3",
   "metadata": {},
   "outputs": [
    {
     "name": "stdout",
     "output_type": "stream",
     "text": [
      "MySQL database connection was successful\n",
      "('Widget D', 19.989999771118164)\n",
      "('Widget C', 16.19199981689453)\n",
      "('Widget B', 15.489999771118164)\n",
      "('Widget A', 10.989999771118164)\n"
     ]
    }
   ],
   "source": [
    "# We will be grouping the products by calculating th average price per product and  order them\n",
    "q14=\"\"\" \n",
    "SELECT product_name, AVG(unit_price) AS price\n",
    "FROM orders\n",
    "GROUP BY product_name\n",
    "ORDER BY price DESC;\n",
    "\"\"\" \n",
    "connection=create_db_connection(\"localhost\",\"root\",pw,db)\n",
    "results=read_query(connection,q14)\n",
    "for result in results:\n",
    "    print(result)"
   ]
  },
  {
   "cell_type": "markdown",
   "id": "56be1b3b",
   "metadata": {},
   "source": [
    "#### One thing we can clearly seeis that even if gropu d has a samller number of products sold based on the mean it leads based on price means there is an inverse correlation between the units (products)and the price"
   ]
  }
 ],
 "metadata": {
  "kernelspec": {
   "display_name": "Python (learn-env)",
   "language": "python",
   "name": "learn-env"
  },
  "language_info": {
   "codemirror_mode": {
    "name": "ipython",
    "version": 3
   },
   "file_extension": ".py",
   "mimetype": "text/x-python",
   "name": "python",
   "nbconvert_exporter": "python",
   "pygments_lexer": "ipython3",
   "version": "3.9.13"
  }
 },
 "nbformat": 4,
 "nbformat_minor": 5
}
